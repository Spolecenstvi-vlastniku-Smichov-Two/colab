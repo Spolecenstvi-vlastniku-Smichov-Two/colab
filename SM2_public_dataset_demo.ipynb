{
  "cells": [
    {
      "cell_type": "markdown",
      "metadata": {},
      "source": [
        "# SM2 Public Dataset – Demo Notebook\n",
        "\n",
        "This notebook works in **Google Colab** and in **local Jupyter**.\n",
        "\n",
        "If you run locally, make sure you have these packages installed (Colab already has them):\n",
        "\n",
        "```bash\n",
        "pip install gdown pandas matplotlib pyarrow fastparquet\n",
        "```\n"
      ]
    },
    {
      "cell_type": "code",
      "execution_count": null,
      "metadata": {},
      "outputs": [],
      "source": [
        "# Optional (for local Jupyter): install dependencies\n",
        "try:\n",
        "    import gdown, pyarrow  # noqa\n",
        "except Exception:\n",
        "    import sys, subprocess\n",
        "    subprocess.check_call([sys.executable, \"-m\", \"pip\", \"install\", \n",
        "                           \"gdown\", \"pandas\", \"matplotlib\", \"pyarrow\", \"fastparquet\"])"
      ]
    },
    {
      "cell_type": "code",
      "execution_count": null,
      "metadata": {},
      "outputs": [],
      "source": [
        "import gdown\n",
        "import pandas as pd\n",
        "import matplotlib.pyplot as plt\n",
        "\n",
        "# Google Drive ID for the Parquet file\n",
        "file_id = \"1gLPWgUGtRb371Gpv5O8t5j95lthNjELg\"\n",
        "url = f\"https://drive.google.com/uc?id={file_id}\"\n",
        "output = \"sm2_public_dataset.parquet\"\n",
        "\n",
        "# Download\n",
        "gdown.download(url, output, quiet=False)\n",
        "\n",
        "# Load\n",
        "df = pd.read_parquet(output)\n",
        "\n",
        "# Types & basic info\n",
        "print(\"Shape:\", df.shape)\n",
        "print(df.info())\n",
        "df[\"time\"] = pd.to_datetime(df[\"time\"], utc=True)\n",
        "print(\"Time range:\", df[\"time\"].min(), \"→\", df[\"time\"].max())\n",
        "\n",
        "# Distinct metrics\n",
        "print(\"\\nDistinct data_key:\")\n",
        "print(df[\"data_key\"].unique())\n",
        "\n",
        "# Combo overview\n",
        "agg_table = (\n",
        "    df.groupby([\"location\", \"source\", \"data_key\"]).size()\n",
        "      .reset_index(name=\"rows\")\n",
        "      .sort_values(\"rows\", ascending=False)\n",
        ")\n",
        "print(\"\\nTop 20 combinations by row count:\")\n",
        "print(agg_table.head(20))\n",
        "\n",
        "# Monthly trend by data_key\n",
        "df[\"month\"] = df[\"time\"].dt.to_period(\"M\")\n",
        "trend_table = (\n",
        "    df.groupby([\"month\", \"data_key\"]).size()\n",
        "      .reset_index(name=\"rows\")\n",
        "      .pivot(index=\"month\", columns=\"data_key\", values=\"rows\")\n",
        "      .fillna(0)\n",
        "      .sort_index()\n",
        ")\n",
        "print(\"\\nMonthly distribution by data_key:\")\n",
        "print(trend_table.head(12))\n",
        "\n",
        "# Plot\n",
        "trend_table.plot(kind=\"line\", figsize=(12,6))\n",
        "plt.title(\"Number of records per data_key over time\")\n",
        "plt.ylabel(\"Row count\")\n",
        "plt.xlabel(\"Month\")\n",
        "plt.legend(title=\"data_key\")\n",
        "plt.show()"
      ]
    }
  ],
  "metadata": {
    "kernelspec": {
      "display_name": "Python 3",
      "language": "python",
      "name": "python3"
    },
    "language_info": {
      "name": "python",
      "version": "3.x"
    },
    "colab": {
      "name": "SM2_public_dataset_demo.ipynb",
      "provenance": []
    }
  },
  "nbformat": 4,
  "nbformat_minor": 5
}