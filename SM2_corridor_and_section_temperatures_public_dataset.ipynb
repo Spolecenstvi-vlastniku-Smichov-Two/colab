{
 "cells": [
  {
   "cell_type": "markdown",
   "metadata": {
    "id": "yWJhYzfqOOg1"
   },
   "source": "# SM2 — Corridor Temperature Profiles (ThermoPro) & Section Indoor vs Ambient (Atrea) — Public Dataset\n\n**Purpose:** Provide clear visuals of corridor temperatures (ThermoPro) and section‑level indoor vs ambient (Atrea), using the single merged public dataset.\n\n### What this notebook shows\n- **Chart 1 — Corridors (ThermoPro): hourly mean temperature** for selected locations (e.g., 5NP). This reveals daily patterns (morning/evening lows, midday peaks) and differences between sections.\n- **Chart 2 — Atrea sections: indoor (`temp_indoor`) with ambient reference (`temp_ambient`)**. This helps compare indoor section behavior versus outdoor conditions across the same window.\n- **Chart 3 — Corridors (ThermoPro): daily maxima** for the same locations, highlighting the hottest days and relative ranking of sections.\n\n> _Dataset timestamps are **UTC**. We derive **Europe/Prague** local time for the charts._\n",
   "id": "yWJhYzfqOOg1"
  },
  {
   "cell_type": "code",
   "execution_count": null,
   "metadata": {
    "id": "zWbs-OfNOOg5"
   },
   "outputs": [],
   "source": "try:\n    import pandas as pd\n    import matplotlib\nexcept Exception:\n    %pip install -q pandas pyarrow matplotlib gdown\nimport pandas as pd\nimport numpy as np\nimport matplotlib.pyplot as plt\nfrom pathlib import Path\nimport re\n\nplt.rcParams['figure.figsize'] = (12, 6)\nOUT_DIR = Path('outputs'); OUT_DIR.mkdir(exist_ok=True)\n",
   "id": "zWbs-OfNOOg5"
  },
  {
   "cell_type": "markdown",
   "metadata": {
    "id": "NDU1Q5NLOOg7"
   },
   "source": "## Load the public dataset (Parquet preferred)\n\nThis cell loads `sm2_public_dataset.parquet` (or `csv.gz`) and adds local Prague time columns used by the charts. No data transformations beyond type/time handling.\n",
   "id": "NDU1Q5NLOOg7"
  },
  {
   "cell_type": "code",
   "execution_count": null,
   "metadata": {
    "colab": {
     "base_uri": "https://localhost:8080/",
     "height": 247
    },
    "id": "06mt8Br7OOg7",
    "outputId": "b90026d0-a086-40eb-c81b-91e0db52bbec"
   },
   "outputs": [],
   "source": "PARQUET_ID = \"1gLPWgUGtRb371Gpv5O8t5j95lthNjELg\"  # sm2_public_dataset.parquet\nCSVGZ_ID  = \"1eLOAOZ13--EKE63GZhmerjmY9zkeJcyd\"  # sm2_public_dataset.csv.gz\nUSE_PARQUET = True\n\nparquet_path = Path('sm2_public_dataset.parquet')\ncsvgz_path   = Path('sm2_public_dataset.csv.gz')\n\ndef gdown_download(file_id: str, out_path: Path):\n    import subprocess, sys\n    try:\n        import gdown  # type: ignore\n    except Exception:\n        subprocess.check_call([sys.executable, '-m', 'pip', 'install', '-q', 'gdown'])\n        import gdown  # type: ignore\n    url = f\"https://drive.google.com/uc?id={file_id}\"\n    gdown.download(url, str(out_path), quiet=False)\n\nif USE_PARQUET:\n    if not parquet_path.exists():\n        print('Downloading Parquet…')\n        gdown_download(PARQUET_ID, parquet_path)\nelse:\n    if not csvgz_path.exists():\n        print('Downloading CSV.GZ…')\n        gdown_download(CSVGZ_ID, csvgz_path)\n\nif USE_PARQUET and parquet_path.exists():\n    df = pd.read_parquet(parquet_path)\nelif csvgz_path.exists():\n    df = pd.read_csv(csvgz_path, compression='gzip')\nelse:\n    raise FileNotFoundError('Dataset not found. Place it next to this notebook or enable internet to download.')\n\ndf['time'] = pd.to_datetime(df['time'], utc=True, errors='coerce')\ndf['data_value'] = pd.to_numeric(df['data_value'], errors='coerce')\ndf['local_time'] = df['time'].dt.tz_convert('Europe/Prague')\ndf['local_day'] = df['local_time'].dt.floor('D')\ndf['year'] = df['local_time'].dt.year\nprint('Shape:', df.shape)\ndf.head(3)\n",
   "id": "06mt8Br7OOg7"
  },
  {
   "cell_type": "markdown",
   "metadata": {
    "id": "8xMG0vrOOOg8"
   },
   "source": "## Optional: legacy → normalized location mapping\n\nThe public dataset already uses **normalized `location`** values. If you still reference legacy labels, you can provide `location_map.csv` (`from` → `to`) to translate **your filters only** (the dataset stays unchanged).\n",
   "id": "8xMG0vrOOOg8"
  },
  {
   "cell_type": "code",
   "execution_count": null,
   "metadata": {
    "colab": {
     "base_uri": "https://localhost:8080/"
    },
    "id": "EtuOCtUwOOg8",
    "outputId": "b8fbd518-64ac-4fec-ecf1-c820c0860f69"
   },
   "outputs": [],
   "source": "map_path = Path('location_map.csv')\nmap_df = None\nraw2norm = {}\nif map_path.exists():\n    map_df = pd.read_csv(map_path)\n    if {'from','to'}.issubset(map_df.columns):\n        raw2norm = dict(map_df[['from','to']].dropna().values)\n        print('Loaded mapping rows:', len(raw2norm))\n    else:\n        print('Mapping file found but missing required columns: from, to')\nelse:\n    print('No mapping file present — proceeding without it (not needed for the public dataset).')\n\ndef map_raw_locations(raw_list):\n    \"\"\"Translate a list of legacy raw location strings to normalized `to` codes.\n    Unknown entries are left unchanged so you see what didn't map.\n    \"\"\"\n    if not raw2norm:\n        return raw_list\n    return [raw2norm.get(x, x) for x in raw_list]\n",
   "id": "EtuOCtUwOOg8"
  },
  {
   "cell_type": "markdown",
   "metadata": {
    "id": "UJ4ILA7QOOg9"
   },
   "source": "## Helper filters\n\nUtility helpers to select source, keys, locations, and time windows from the public dataset. These keep plotting cells compact and consistent.\n",
   "id": "UJ4ILA7QOOg9"
  },
  {
   "cell_type": "code",
   "execution_count": null,
   "metadata": {
    "id": "52vwjQE9OOg9"
   },
   "outputs": [],
   "source": "def select_data(source=None, keys=None, locations=None, start=None, end=None):\n    q = df.copy()\n    if source is not None:\n        q = q[q['source'].isin([source] if isinstance(source, str) else list(source))]\n    if keys is not None:\n        q = q[q['data_key'].isin([keys] if isinstance(keys, str) else list(keys))]\n    if locations is not None:\n        q = q[q['location'].isin([locations] if isinstance(locations, str) else list(locations))]\n    if start is not None:\n        q = q[q['local_time'] >= pd.Timestamp(start, tz='Europe/Prague')]\n    if end is not None:\n        q = q[q['local_time'] <= pd.Timestamp(end, tz='Europe/Prague')]\n    return q\n\ndef parse_norm_location(loc: str):\n    # Atrea sections: sm2_01..sm2_09\n    if isinstance(loc, str) and loc.startswith('sm2_'):\n        return {'kind':'Atrea', 'section': loc}\n    # ThermoPro corridors/garages: e.g., 5NP-S5, 1PP-S1\n    m = re.match(r'^(?P<floor>\\d(?:NP|PP))-S(?P<section>\\d+)$', str(loc))\n    if m:\n        return {'kind':'ThermoPro', 'floor': m.group('floor'), 'section': f\"S{m.group('section')}\"}\n    return {'kind':'unknown'}\n",
   "id": "52vwjQE9OOg9"
  },
  {
   "cell_type": "markdown",
   "metadata": {
    "id": "3MYN_0c1OOg-"
   },
   "source": "## Chart 1 — Corridors (ThermoPro): hourly mean temperature\n\nWe compute **hourly means** for selected corridor locations (e.g., 5NP) in the chosen window.  \n**Interpretation tips:**\n- **Shape within a day:** typical daily cycle (cool nights vs warm afternoons).  \n- **Between lines:** relative differences among sections (e.g., ventilation, exposure).  \n- **Sustained elevation:** persistent heat buildup or poor heat dissipation.\n",
   "id": "3MYN_0c1OOg-"
  },
  {
   "cell_type": "code",
   "execution_count": null,
   "metadata": {
    "execution": {
     "timeout": 0
    },
    "colab": {
     "base_uri": "https://localhost:8080/",
     "height": 659
    },
    "id": "GdJqmhLUOOg-",
    "outputId": "aa439ac2-66e1-4738-b1b1-d709c81cf7fd"
   },
   "outputs": [],
   "source": "# Choose a window similar to the original notebook\nSTART = '2025-08-21 00:00:00'\nEND   = '2025-08-27 00:00:00'\n\n# Example legacy raw list (uncomment & edit if you want to translate legacy codes):\n# legacy_raw = ['SM2_03_L5/L6_01','SM2_05_L5/L6_01','SM2_01_L5/L6_01','SM2_02_L5/L6_01']\n# norm_locs = map_raw_locations(legacy_raw)\n\n# Or simply use normalized directly (5NP corridors examples):\nnorm_locs = ['5NP-S1','5NP-S2','5NP-S3','5NP-S4','5NP-S5','5NP-S6','5NP-S7','5NP-S8','5NP-S9']\n\ntp = select_data(source='ThermoPro', keys='temp_indoor', locations=norm_locs, start=START, end=END).copy()\nif tp.empty:\n    print('No ThermoPro rows found for the selection.')\nelse:\n    tp['hourly'] = tp['local_time'].dt.floor('H')\n    hourly = tp.groupby(['location','hourly'])['data_value'].mean().unstack(0)\n    fig = plt.figure(); ax = plt.gca()\n    hourly.plot(ax=ax)\n    ax.set_title('Corridors (ThermoPro) — hourly mean temperature')\n    ax.set_xlabel('Time [local]'); ax.set_ylabel('°C')\n    plt.tight_layout(); plt.savefig(OUT_DIR / 'corridors_hourly_means.png', dpi=150); plt.show()\n    print('Saved:', OUT_DIR / 'corridors_hourly_means.png')\n",
   "id": "GdJqmhLUOOg-"
  },
  {
   "cell_type": "markdown",
   "metadata": {
    "id": "EtMgqGCiOOg_"
   },
   "source": "## Chart 2 — Atrea sections: indoor with ambient reference\n\nFor all Atrea sections (`sm2_01..sm2_09`), we plot hourly **indoor** (`temp_indoor`) lines. As a reference, we overlay the **ambient** (`temp_ambient`) averaged across sections (dashed).  \n**What to look for:**\n- **Indoor vs ambient gap:** degree of decoupling or tracking with outside temperatures.  \n- **Section‑to‑section spread:** which sections tend to run hotter/cooler over time.\n",
   "id": "EtMgqGCiOOg_"
  },
  {
   "cell_type": "code",
   "execution_count": null,
   "metadata": {
    "colab": {
     "base_uri": "https://localhost:8080/",
     "height": 694
    },
    "id": "8sisGRFiOOg_",
    "outputId": "b09bbfa1-fd11-4514-cf5e-6b925a54eb51"
   },
   "outputs": [],
   "source": "START = '2025-08-08 00:00:00'\nEND   = '2025-08-22 00:00:00'\n\nsections = [f'sm2_{i:02d}' for i in range(1,10)]\n\n# Indoor exhaust (proxy for indoor)\natr_in = select_data(source='Atrea', keys='temp_indoor', locations=sections, start=START, end=END)\n# Ambient reference\natr_amb = select_data(source='Atrea', keys='temp_ambient', locations=sections, start=START, end=END)\n\nif atr_in.empty or atr_amb.empty:\n    print('Insufficient Atrea data in the selected window.')\nelse:\n    # hourly indoor per section\n    atr_in['hourly'] = atr_in['local_time'].dt.floor('H')\n    in_hourly = atr_in.groupby(['location','hourly'])['data_value'].mean().unstack(0)\n\n    # hourly ambient averaged across sections (one line)\n    atr_amb['hourly'] = atr_amb['local_time'].dt.floor('H')\n    amb_hourly = atr_amb.groupby('hourly')['data_value'].mean()\n\n    fig = plt.figure(); ax = plt.gca()\n    in_hourly.plot(ax=ax)\n    amb_hourly.plot(ax=ax, linewidth=2, linestyle='--')\n    ax.set_title('Atrea sections — hourly indoor (temp_indoor) with ambient reference (dashed)')\n    ax.set_xlabel('Time [local]'); ax.set_ylabel('°C')\n    plt.tight_layout(); plt.savefig(OUT_DIR / 'atrea_hourly_with_ambient.png', dpi=150); plt.show()\n    print('Saved:', OUT_DIR / 'atrea_hourly_with_ambient.png')\n",
   "id": "8sisGRFiOOg_"
  },
  {
   "cell_type": "markdown",
   "metadata": {
    "id": "cGiGaAhlOOg_"
   },
   "source": "## Chart 3 — Corridors (ThermoPro): daily maxima\n\nFor the same corridor locations, we compute **daily max** temperatures.  \n**Reading the chart:**\n- **Peaks** mark the hottest days in the window.  \n- **Relative ordering** across lines shows which corridors reach higher daily extremes.\n",
   "id": "cGiGaAhlOOg_"
  },
  {
   "cell_type": "code",
   "execution_count": null,
   "metadata": {
    "colab": {
     "base_uri": "https://localhost:8080/",
     "height": 624
    },
    "id": "tiZjNb-QOOg_",
    "outputId": "16dda5d1-53d0-4d9d-c278-7fbe0e78f059"
   },
   "outputs": [],
   "source": "START = '2025-08-21 00:00:00'\nEND   = '2025-08-27 00:00:00'\n\ntp = select_data(source='ThermoPro', keys='temp_indoor', locations=['5NP-S1','5NP-S2','5NP-S3','5NP-S4','5NP-S5','5NP-S6','5NP-S7','5NP-S8','5NP-S9'], start=START, end=END)\nif tp.empty:\n    print('No ThermoPro data for the selection.')\nelse:\n    tp['day'] = tp['local_time'].dt.floor('D')\n    dmax = tp.groupby(['location','day'])['data_value'].max().unstack(0)\n    fig = plt.figure(); ax = plt.gca()\n    dmax.plot(ax=ax)\n    ax.set_title('Corridors 5NP — daily maxima (ThermoPro)')\n    ax.set_xlabel('Day [local]'); ax.set_ylabel('°C')\n    plt.tight_layout(); plt.savefig(OUT_DIR / 'corridors_daily_maxima.png', dpi=150); plt.show()\n    print('Saved:', OUT_DIR / 'corridors_daily_maxima.png')\n",
   "id": "tiZjNb-QOOg_"
  },
  {
   "cell_type": "markdown",
   "metadata": {
    "id": "nIiTSzCmOOhA"
   },
   "source": "### Notes\n- Adjust the **time window** and **locations** (e.g., to focus on different floors/sections).  \n- The charts are **descriptive**: they reveal daily profiles, extreme days, and differences between sections/floors.  \n- All visuals come directly from the public dataset; the code does not depend on any private preprocessing.\n",
   "id": "nIiTSzCmOOhA"
  }
 ],
 "metadata": {
  "kernelspec": {
   "display_name": "Python 3",
   "language": "python",
   "name": "python3"
  },
  "language_info": {
   "name": "python",
   "version": "3.10"
  },
  "colab": {
   "provenance": []
  }
 },
 "nbformat": 4,
 "nbformat_minor": 5
}
